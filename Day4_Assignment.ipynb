{
 "cells": [
  {
   "cell_type": "raw",
   "metadata": {},
   "source": [
    "1.Research on whether addition, subtraction, multiplication, division, floor division and modulo\n",
    "operations be performed on complex numbers. Based on your study, implement a Python\n",
    "program to demonstrate these operations."
   ]
  },
  {
   "cell_type": "code",
   "execution_count": 5,
   "metadata": {},
   "outputs": [
    {
     "name": "stdout",
     "output_type": "stream",
     "text": [
      "Addition of A and B is  (15+8j)\n",
      "Subtraction of A and B is  (5+2j)\n",
      "Multiplication of A and B is  (35+55j)\n",
      "Division of A and B is  (1.911764705882353-0.14705882352941177j)\n"
     ]
    }
   ],
   "source": [
    "A = 10 + 5j\n",
    "B = 5 +3j\n",
    "\n",
    "print(\"Addition of A and B is \", A + B)\n",
    "print(\"Subtraction of A and B is \", A - B)\n",
    "print(\"Multiplication of A and B is \", A * B)\n",
    "print(\"Division of A and B is \", A / B)\n",
    "\n",
    "# Tried almost more than 3 hours for modulo and floor division for two complex number but unable to find it.  "
   ]
  },
  {
   "cell_type": "raw",
   "metadata": {},
   "source": [
    "2.Research on range() functions and its parameters. Create a markdown cell and write in your own\n",
    "words (no copy-paste from google please) what you understand about it. Implement a small\n",
    "program of your choice on the same"
   ]
  },
  {
   "cell_type": "raw",
   "metadata": {},
   "source": [
    " Range is function to use the list the number from x to y.\n",
    " Range will be used together with the loops.\n",
    " It required atleast 1 parameter to use. \n",
    " if give 3 parameters it will use the 1st parameter as lower limit, 2nd parameter as upper limit and 3rd parameter step parameter.\n",
    " It is a having a main property that it will take a upper limit as n-1. So we have to give the 11 if we want to use the range of number 10."
   ]
  },
  {
   "cell_type": "raw",
   "metadata": {},
   "source": [
    "3. Consider two numbers. Perform their subtraction and if the result of subtraction is greater than\n",
    "25, print their multiplication result else print their division result."
   ]
  },
  {
   "cell_type": "code",
   "execution_count": 11,
   "metadata": {},
   "outputs": [
    {
     "name": "stdout",
     "output_type": "stream",
     "text": [
      "Please enter the first number : 15\n",
      "Please enter the second number : 20\n",
      "Division of 15 and 20 is  0.75\n"
     ]
    }
   ],
   "source": [
    "A = int(input(\"Please enter the first number : \"))\n",
    "B = int(input(\"Please enter the second number : \"))\n",
    "\n",
    "C = A - B\n",
    "if C > 25:\n",
    "    print(\"Multiplication of {0} and {1} is \".format(A, B), A * B)\n",
    "else:\n",
    "    print(\"Division of {0} and {1} is \".format(A, B),  A / B)"
   ]
  },
  {
   "cell_type": "raw",
   "metadata": {},
   "source": [
    "4. Consider a list of 10 elements of integer values. If the number in the list is divisible by 2, print the\n",
    "result as \"square of that number minus 2\"."
   ]
  },
  {
   "cell_type": "code",
   "execution_count": 20,
   "metadata": {},
   "outputs": [
    {
     "name": "stdout",
     "output_type": "stream",
     "text": [
      "-2\n",
      "2\n",
      "14\n",
      "34\n",
      "62\n",
      "98\n"
     ]
    }
   ],
   "source": [
    "for i in range(0, 11, 2):\n",
    "    if i % 2 == 0:\n",
    "        print((i*i)-2)"
   ]
  },
  {
   "cell_type": "raw",
   "metadata": {},
   "source": [
    "5. Consider a list of 10 elements. Print all the elements in the list which are greater than 7 when that\n",
    "number is divided 2."
   ]
  },
  {
   "cell_type": "code",
   "execution_count": 26,
   "metadata": {},
   "outputs": [
    {
     "name": "stdout",
     "output_type": "stream",
     "text": [
      "15 is satisfying the condition greater than 7 when it is divisible by 2 : \n",
      "20 is satisfying the condition greater than 7 when it is divisible by 2 : \n",
      "26 is satisfying the condition greater than 7 when it is divisible by 2 : \n",
      "30 is satisfying the condition greater than 7 when it is divisible by 2 : \n",
      "35 is satisfying the condition greater than 7 when it is divisible by 2 : \n",
      "40 is satisfying the condition greater than 7 when it is divisible by 2 : \n"
     ]
    }
   ],
   "source": [
    "A = [1, 4, 7, 10, 15, 20, 26, 30, 35, 40]\n",
    "for i in A:\n",
    "    if i / 2 > 7:\n",
    "        print(\"{0} is satisfying the condition greater than 7 when it is divisible by 2 : \".format(i))"
   ]
  },
  {
   "cell_type": "code",
   "execution_count": null,
   "metadata": {},
   "outputs": [],
   "source": []
  }
 ],
 "metadata": {
  "kernelspec": {
   "display_name": "Python 3",
   "language": "python",
   "name": "python3"
  },
  "language_info": {
   "codemirror_mode": {
    "name": "ipython",
    "version": 3
   },
   "file_extension": ".py",
   "mimetype": "text/x-python",
   "name": "python",
   "nbconvert_exporter": "python",
   "pygments_lexer": "ipython3",
   "version": "3.7.6"
  }
 },
 "nbformat": 4,
 "nbformat_minor": 4
}
