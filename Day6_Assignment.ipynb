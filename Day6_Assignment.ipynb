{
 "cells": [
  {
   "cell_type": "raw",
   "metadata": {},
   "source": [
    "Question 1:\n",
    "Assuming that we have some email addresses in the \"username@companyname.com\" format, please write program\n",
    "to print the company name of a given email address. Both user names and company names are composed of letters\n",
    "only.\n",
    "Input Format:\n",
    "The first line of the input contains an email address.\n",
    "Output Format:\n",
    "Print the company name in single line.\n",
    "Example;\n",
    "Input:\n",
    "john@google.com\n",
    "Output:\n",
    "google"
   ]
  },
  {
   "cell_type": "code",
   "execution_count": 4,
   "metadata": {},
   "outputs": [
    {
     "name": "stdout",
     "output_type": "stream",
     "text": [
      "Please enter your email address : john@google.com\n",
      "You are working in google\n"
     ]
    }
   ],
   "source": [
    "email = str(input(\"Please enter your email address : \"))\n",
    "\n",
    "company_name = email.split('@')[-1].split('.')[0]\n",
    "print(\"You are working in {0}\".format(company_name))"
   ]
  },
  {
   "cell_type": "raw",
   "metadata": {},
   "source": [
    "Question 2:\n",
    "Write a program that accepts a comma-separated sequence of words as input and prints the words in a comma\n",
    "separated sequence after sorting them alphabetically.\n",
    "Input Format:\n",
    "The first line of input contains words separated by the comma.\n",
    "Output Format:\n",
    "Print the sorted words separated by the comma.\n",
    "Example:\n",
    "Input:\n",
    "without,hello,bag,world\n",
    "Output:\n",
    "bag,hello,without,world"
   ]
  },
  {
   "cell_type": "code",
   "execution_count": 17,
   "metadata": {},
   "outputs": [
    {
     "name": "stdout",
     "output_type": "stream",
     "text": [
      "Please enter the list of word : without,hello,bag,world\n",
      "bag,hello,without,world\n"
     ]
    }
   ],
   "source": [
    "words = input(\"Please enter the list of word : \")\n",
    "\n",
    "seperated = sorted(words.split(','))\n",
    "    \n",
    "print(*seperated, sep=',')"
   ]
  },
  {
   "cell_type": "raw",
   "metadata": {},
   "source": [
    "Question 3:\n",
    "Create your own Jupyter Notebook for Sets.\n",
    "Reference link: https://www.w3schools.com/python/python_sets.asp"
   ]
  },
  {
   "cell_type": "code",
   "execution_count": 37,
   "metadata": {},
   "outputs": [
    {
     "name": "stdout",
     "output_type": "stream",
     "text": [
      "{1, 2, 3, 4, 5}\n",
      "{1, 2, 3, 4, 5, 6}\n",
      "{1, 2, 4, 5, 6}\n",
      "{2, 4, 5, 6}\n",
      "{4, 5, 6}\n",
      "set()\n"
     ]
    }
   ],
   "source": [
    "s1 = {1, 2, 3, 4, 5}\n",
    "\n",
    "print(s1)\n",
    "\n",
    "s1.add(6) # to add a parameter\n",
    "print(s1)\n",
    "\n",
    "s1.remove(3) # removes the mentioned parameter \n",
    "print(s1)\n",
    "\n",
    "s1.pop() # removes the first letter\n",
    "print(s1)\n",
    "\n",
    "s1.discard(2) # it will remove the mention parameter\n",
    "print(s1)\n",
    "\n",
    "s1.clear()  # makes empty set\n",
    "print(s1)"
   ]
  },
  {
   "cell_type": "raw",
   "metadata": {},
   "source": [
    "Question 4:\n",
    "Given a list of n-1 numbers ranging from 1 to n, your task is to find the missing number. There are no duplicates.\n",
    "Input Format:\n",
    "The first line contains n-1 numbers with each number separated by a space.\n",
    "Output Format:\n",
    "Print the missing number\n",
    "Example:\n",
    "Input:1 2 4 6 3 7 8\n",
    "Output:5\n",
    "Explanation:\n",
    "In the above list of numbers 5 is missing and hence 5 is the input"
   ]
  },
  {
   "cell_type": "code",
   "execution_count": 61,
   "metadata": {},
   "outputs": [
    {
     "name": "stdout",
     "output_type": "stream",
     "text": [
      "please enter the number from 1 to n in sequence seperated by space : 1 2 4 6 3 7 8\n",
      "5\n"
     ]
    }
   ],
   "source": [
    "l1 = input(\"please enter the number from 1 to n in sequence seperated by space : \")\n",
    "length = len(l1.split())\n",
    "\n",
    "total = 0\n",
    "for i in l1.split():\n",
    "    total = total + int(i)\n",
    "\n",
    "    \n",
    "cur_total = 0\n",
    "for i in range(length+2):       # I am taking the length+2 since the range will calculate from 0 to n-1  \n",
    "    cur_total = cur_total + i\n",
    "\n",
    "remaining = int(cur_total-total)\n",
    "print(remaining)"
   ]
  },
  {
   "cell_type": "raw",
   "metadata": {},
   "source": [
    "With a given list L, write a program to print this list L after removing all duplicate values with original order reserved.\n",
    "Example:\n",
    "If the input list is\n",
    "12 24 35 24 88 120 155 88 120 155\n",
    "Then the output should be\n",
    "12 24 35 88 120 155"
   ]
  },
  {
   "cell_type": "code",
   "execution_count": 92,
   "metadata": {},
   "outputs": [
    {
     "name": "stdout",
     "output_type": "stream",
     "text": [
      "please enter the numbers seperated by space : 12 24 35 24 88 120 155 88 120 155\n",
      "12 24 35 88 120 155 "
     ]
    }
   ],
   "source": [
    "inp = input(\"please enter the numbers seperated by space : \")\n",
    "\n",
    "l1 = []\n",
    "for i in inp.split():\n",
    "    l1.append(int(i))\n",
    "\n",
    "l2 = sorted(l1)\n",
    "\n",
    "l3 = []\n",
    "for i in l2:\n",
    "    if i in l3:\n",
    "        continue\n",
    "    else:\n",
    "        l3.append(i)\n",
    "print(*l3, end=' ')\n",
    "        "
   ]
  },
  {
   "cell_type": "code",
   "execution_count": null,
   "metadata": {},
   "outputs": [],
   "source": []
  }
 ],
 "metadata": {
  "kernelspec": {
   "display_name": "Python 3",
   "language": "python",
   "name": "python3"
  },
  "language_info": {
   "codemirror_mode": {
    "name": "ipython",
    "version": 3
   },
   "file_extension": ".py",
   "mimetype": "text/x-python",
   "name": "python",
   "nbconvert_exporter": "python",
   "pygments_lexer": "ipython3",
   "version": "3.7.6"
  }
 },
 "nbformat": 4,
 "nbformat_minor": 4
}
