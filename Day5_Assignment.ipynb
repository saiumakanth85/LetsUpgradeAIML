{
 "cells": [
  {
   "cell_type": "raw",
   "metadata": {},
   "source": [
    "Question 1 :\n",
    "Write a Python program to find the first 20 non-even prime natural numbers"
   ]
  },
  {
   "cell_type": "code",
   "execution_count": 2,
   "metadata": {},
   "outputs": [
    {
     "name": "stdout",
     "output_type": "stream",
     "text": [
      "3\n",
      "5\n",
      "7\n",
      "11\n",
      "13\n",
      "17\n",
      "19\n",
      "23\n",
      "29\n",
      "31\n",
      "37\n",
      "41\n",
      "43\n",
      "47\n",
      "53\n",
      "59\n",
      "61\n",
      "67\n",
      "71\n",
      "73\n",
      "79\n"
     ]
    }
   ],
   "source": [
    "A = [] # Empty list to find the top 20 prime number once it reached to 20 then while loop terminates the program.\n",
    "while len(A) <= 20:\n",
    "    for i in range(0, 100): \n",
    "        if i > 2: \n",
    "            for n in range(2, i//2 + 2): \n",
    "                if (i % n) == 0: \n",
    "                    break\n",
    "                else: \n",
    "                    if n == i//2 + 1:\n",
    "                        if len(A) <= 20: \n",
    "                            A.append(i)\n",
    "                            print(i)"
   ]
  },
  {
   "cell_type": "raw",
   "metadata": {},
   "source": [
    "Question 2 :\n",
    "Write a Python program to implement 15 functions of string."
   ]
  },
  {
   "cell_type": "code",
   "execution_count": 37,
   "metadata": {},
   "outputs": [
    {
     "name": "stdout",
     "output_type": "stream",
     "text": [
      "LETSUPGRADE\n",
      "letsupgrade\n",
      "4\n",
      "9\n",
      "False\n",
      "True\n",
      "False\n",
      "AIML\n",
      "False\n",
      "True\n",
      "2\n",
      "Letsupgrade\n",
      "b'LetsUpgrade'\n",
      "False\n",
      "True\n"
     ]
    }
   ],
   "source": [
    "A = \"LetsUpgrade\"\n",
    "\n",
    "print(A.upper())\n",
    "print(A.lower())\n",
    "print(A.find(\"U\"))\n",
    "print(A.index(\"d\"))\n",
    "print(A.isdecimal())\n",
    "print(A.isalpha())\n",
    "print(A.isupper())\n",
    "print(A.replace(A, \"AIML\"))\n",
    "print(A.isspace())\n",
    "print(A.endswith('e'))\n",
    "print(A.count('e'))\n",
    "print(A.capitalize())\n",
    "print(A.encode())\n",
    "print(A.isdigit())\n",
    "print(A.isprintable())"
   ]
  },
  {
   "cell_type": "raw",
   "metadata": {},
   "source": [
    "Question 3:\n",
    "Write a Python program to check if the given string is a Palindrome or Anagram or None of them.\n",
    "Display the message accordingly to the user."
   ]
  },
  {
   "cell_type": "code",
   "execution_count": 44,
   "metadata": {},
   "outputs": [
    {
     "name": "stdout",
     "output_type": "stream",
     "text": [
      "Enter any string : sas\n",
      "Enter another string : sas\n",
      "Both sas and sas are anagram and palindrome\n"
     ]
    }
   ],
   "source": [
    "A = str(input(\"Enter any string : \"))\n",
    "B = str(input(\"Enter another string : \"))\n",
    "    \n",
    "def anagram_palindrome(A, B):\n",
    "    A_str = list(A)\n",
    "    A_str.sort()\n",
    "    B_str = list(B)\n",
    "    B_str.sort()\n",
    "\n",
    "    if A_str == B_str and B == B[::-1] and A != A[::-1]:\n",
    "        print(\"{} and {} are anagram\".format(A, B))\n",
    "    elif A_str == B_str and A == A[::-1] and B != B[::-1]:\n",
    "        print(\"{} and {} are anagram\".format(A, B))\n",
    "    elif A_str == B_str and A == A[::-1] and B == B[::-1]:\n",
    "        print(\"Both {} and {} are anagram and palindrome\".format(A, B))\n",
    "    elif A_str == B_str and A != A[::-1] and B != B[::-1]:\n",
    "        print(\"Both {} and {} are anagram\".format(A, B))\n",
    "    else:\n",
    "        print(\"Both {} and {} are not palindrome and anagram\".format(A, B))\n",
    "\n",
    "anagram_palindrome(A, B)"
   ]
  },
  {
   "cell_type": "raw",
   "metadata": {},
   "source": [
    "Question 4:\n",
    "Write a Python's user defined function that removes all the additional characters from the string\n",
    "and converts it finally to lower case using built-in lower(). eg: If the string is \"Dr. Darshan Ingle\n",
    "@AI-ML Trainer\", then the output be \"drdarshaningleaimltrainer\""
   ]
  },
  {
   "cell_type": "code",
   "execution_count": 16,
   "metadata": {},
   "outputs": [
    {
     "data": {
      "text/plain": [
       "'drdarshaningleaimltrainer'"
      ]
     },
     "execution_count": 16,
     "metadata": {},
     "output_type": "execute_result"
    }
   ],
   "source": [
    "def rem_add_char(N):\n",
    "    new_string = \"\"\n",
    "    for i in N:\n",
    "        if i.isalpha() == True:\n",
    "            new_string += i\n",
    "    return new_string.lower()          \n",
    "\n",
    "string1 = \"Dr. Darshan Ingle@AI-ML Trainer\"\n",
    "rem_add_char(string1)"
   ]
  },
  {
   "cell_type": "code",
   "execution_count": null,
   "metadata": {},
   "outputs": [],
   "source": []
  }
 ],
 "metadata": {
  "kernelspec": {
   "display_name": "Python 3",
   "language": "python",
   "name": "python3"
  },
  "language_info": {
   "codemirror_mode": {
    "name": "ipython",
    "version": 3
   },
   "file_extension": ".py",
   "mimetype": "text/x-python",
   "name": "python",
   "nbconvert_exporter": "python",
   "pygments_lexer": "ipython3",
   "version": "3.7.6"
  }
 },
 "nbformat": 4,
 "nbformat_minor": 4
}
