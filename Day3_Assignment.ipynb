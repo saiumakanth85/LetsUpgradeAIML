{
 "cells": [
  {
   "cell_type": "raw",
   "metadata": {},
   "source": [
    "1. Write a program to subtract two complex numbers in Python"
   ]
  },
  {
   "cell_type": "code",
   "execution_count": 2,
   "metadata": {},
   "outputs": [
    {
     "name": "stdout",
     "output_type": "stream",
     "text": [
      "(1-3j)\n"
     ]
    }
   ],
   "source": [
    "A = 3 + 2j\n",
    "B = 2 + 5j\n",
    "C = A - B\n",
    "print(C)"
   ]
  },
  {
   "cell_type": "raw",
   "metadata": {},
   "source": [
    "2.Write a program to find the fourth root of a number."
   ]
  },
  {
   "cell_type": "code",
   "execution_count": 6,
   "metadata": {},
   "outputs": [
    {
     "name": "stdout",
     "output_type": "stream",
     "text": [
      "1.7782794100389228\n"
     ]
    }
   ],
   "source": [
    "num = 10\n",
    "nth_root = 4\n",
    "fourth_root = num ** (1 / nth_root)\n",
    "print(fourth_root)"
   ]
  },
  {
   "cell_type": "raw",
   "metadata": {},
   "source": [
    "3.Write a program to swap two numbers in Python with the help of a temporary variable."
   ]
  },
  {
   "cell_type": "code",
   "execution_count": 9,
   "metadata": {},
   "outputs": [
    {
     "name": "stdout",
     "output_type": "stream",
     "text": [
      "Now a is 3\n",
      "Now b is 2\n"
     ]
    }
   ],
   "source": [
    "a = 2\n",
    "b = 3\n",
    "\n",
    "# Using temp variable\n",
    "temp_var = a\n",
    "a = b\n",
    "b = temp_var\n",
    "\n",
    "print(\"Now a is\", a)\n",
    "print(\"Now b is\", b)"
   ]
  },
  {
   "cell_type": "raw",
   "metadata": {},
   "source": [
    "4.Write a program to swap two numbers in Python without using a temporary variable"
   ]
  },
  {
   "cell_type": "code",
   "execution_count": 12,
   "metadata": {},
   "outputs": [
    {
     "name": "stdout",
     "output_type": "stream",
     "text": [
      "After swapping a is  10\n",
      "After swapping b is  5\n"
     ]
    }
   ],
   "source": [
    "a = 5\n",
    "b = 10\n",
    "\n",
    "a, b = b, a\n",
    "print(\"After swapping a is \", a)\n",
    "print(\"After swapping b is \", b)"
   ]
  },
  {
   "cell_type": "raw",
   "metadata": {},
   "source": [
    "5.Write a program to convert fahrenheit to kelvin and celsius both."
   ]
  },
  {
   "cell_type": "code",
   "execution_count": 18,
   "metadata": {},
   "outputs": [
    {
     "name": "stdout",
     "output_type": "stream",
     "text": [
      "Please enter the temperature in fahrenheit : 98\n",
      "Given Temperature in celsius is 36.666666666666664\n",
      "Given Temperature in kelvin is 309.8166666666667\n"
     ]
    }
   ],
   "source": [
    "fahrenheit = int(input(\"Please enter the temperature in fahrenheit : \"))\n",
    "\n",
    "f_2_celsius = ( fahrenheit - 32 ) * 5/9\n",
    "print(\"Given Temperature in celsius is\", f_2_celsius)\n",
    "\n",
    "f_2_kelvin = ( fahrenheit + 459.67 ) * 5/9\n",
    "print(\"Given Temperature in kelvin is\", f_2_kelvin)"
   ]
  },
  {
   "cell_type": "raw",
   "metadata": {},
   "source": [
    "6.Write a program to demonstrate all the available data types in Python. Hint: Use type() function"
   ]
  },
  {
   "cell_type": "code",
   "execution_count": 22,
   "metadata": {},
   "outputs": [
    {
     "name": "stdout",
     "output_type": "stream",
     "text": [
      "<class 'int'>\n",
      "<class 'str'>\n",
      "<class 'float'>\n",
      "<class 'complex'>\n",
      "<class 'list'>\n",
      "<class 'tuple'>\n",
      "<class 'set'>\n",
      "<class 'dict'>\n"
     ]
    }
   ],
   "source": [
    "print(type(9))\n",
    "print(type(\"hello\"))\n",
    "print(type(9.21))\n",
    "print(type(1+2j))\n",
    "print(type([1, 2, 3, 4]))\n",
    "print(type((1, 2, 3, 4)))\n",
    "print(type({1,2,3,4}))\n",
    "print(type({ \"Hello\" : \"world\", \"How are you\" : \"I am fine\"}))"
   ]
  },
  {
   "cell_type": "raw",
   "metadata": {},
   "source": [
    "7.Create a Markdown cell in jupyter and list the steps discussed in the session by Dr. Darshan\n",
    "Ingle sir to create Github profile and upload Githubs Assignment link."
   ]
  },
  {
   "cell_type": "raw",
   "metadata": {},
   "source": [
    "1. Save this file.\n",
    "2. create a new git hubaccount\n",
    "3. create a new repository using the permissions as public\n",
    "4. Download it the git\n",
    "5. upload the file using the git client. \n",
    "6. Share the github assignment link with the letsupgrade the google forms "
   ]
  },
  {
   "cell_type": "code",
   "execution_count": null,
   "metadata": {},
   "outputs": [],
   "source": []
  }
 ],
 "metadata": {
  "kernelspec": {
   "display_name": "Python 3",
   "language": "python",
   "name": "python3"
  },
  "language_info": {
   "codemirror_mode": {
    "name": "ipython",
    "version": 3
   },
   "file_extension": ".py",
   "mimetype": "text/x-python",
   "name": "python",
   "nbconvert_exporter": "python",
   "pygments_lexer": "ipython3",
   "version": "3.7.6"
  }
 },
 "nbformat": 4,
 "nbformat_minor": 4
}
